{
 "cells": [
  {
   "cell_type": "markdown",
   "id": "98266f47",
   "metadata": {},
   "source": [
    "### Bibliotecas"
   ]
  },
  {
   "cell_type": "code",
   "execution_count": 1,
   "id": "d0ecd343",
   "metadata": {
    "ExecuteTime": {
     "end_time": "2022-08-11T11:21:32.624100Z",
     "start_time": "2022-08-11T11:20:42.099428Z"
    }
   },
   "outputs": [],
   "source": [
    "import pandas as pd \n",
    "import numpy as np \n",
    "import seaborn as sn\n",
    "import matplotlib.pyplot as plt\n",
    "%matplotlib inline\n",
    "import missingno as msnum\n",
    "import sweetviz as sv\n",
    "\n",
    "# definindo formato dos números\n",
    "pd.set_option('display.float_format', lambda x: '%.2f' % x)\n",
    "\n",
    "# definindo tamanho dos gráficos\n",
    "plt.rcParams['figure.figsize'] = [ 20, 10 ]"
   ]
  },
  {
   "cell_type": "markdown",
   "id": "fae3b1f3",
   "metadata": {},
   "source": [
    "### Extração dos dados e visualizações gerais"
   ]
  },
  {
   "cell_type": "code",
   "execution_count": 2,
   "id": "859732f6",
   "metadata": {
    "ExecuteTime": {
     "end_time": "2022-08-11T11:21:32.795608Z",
     "start_time": "2022-08-11T11:21:32.639471Z"
    }
   },
   "outputs": [
    {
     "data": {
      "text/html": [
       "<div>\n",
       "<style scoped>\n",
       "    .dataframe tbody tr th:only-of-type {\n",
       "        vertical-align: middle;\n",
       "    }\n",
       "\n",
       "    .dataframe tbody tr th {\n",
       "        vertical-align: top;\n",
       "    }\n",
       "\n",
       "    .dataframe thead th {\n",
       "        text-align: right;\n",
       "    }\n",
       "</style>\n",
       "<table border=\"1\" class=\"dataframe\">\n",
       "  <thead>\n",
       "    <tr style=\"text-align: right;\">\n",
       "      <th></th>\n",
       "      <th>id</th>\n",
       "      <th>date</th>\n",
       "      <th>price</th>\n",
       "      <th>bedrooms</th>\n",
       "      <th>bathrooms</th>\n",
       "      <th>sqft_living</th>\n",
       "      <th>sqft_lot</th>\n",
       "      <th>floors</th>\n",
       "      <th>waterfront</th>\n",
       "      <th>view</th>\n",
       "      <th>...</th>\n",
       "      <th>grade</th>\n",
       "      <th>sqft_above</th>\n",
       "      <th>sqft_basement</th>\n",
       "      <th>yr_built</th>\n",
       "      <th>yr_renovated</th>\n",
       "      <th>zipcode</th>\n",
       "      <th>lat</th>\n",
       "      <th>long</th>\n",
       "      <th>sqft_living15</th>\n",
       "      <th>sqft_lot15</th>\n",
       "    </tr>\n",
       "  </thead>\n",
       "  <tbody>\n",
       "    <tr>\n",
       "      <th>0</th>\n",
       "      <td>7129300520</td>\n",
       "      <td>20141013T000000</td>\n",
       "      <td>221900.00</td>\n",
       "      <td>3</td>\n",
       "      <td>1.00</td>\n",
       "      <td>1180</td>\n",
       "      <td>5650</td>\n",
       "      <td>1.00</td>\n",
       "      <td>0</td>\n",
       "      <td>0</td>\n",
       "      <td>...</td>\n",
       "      <td>7</td>\n",
       "      <td>1180</td>\n",
       "      <td>0</td>\n",
       "      <td>1955</td>\n",
       "      <td>0</td>\n",
       "      <td>98178</td>\n",
       "      <td>47.51</td>\n",
       "      <td>-122.26</td>\n",
       "      <td>1340</td>\n",
       "      <td>5650</td>\n",
       "    </tr>\n",
       "    <tr>\n",
       "      <th>1</th>\n",
       "      <td>6414100192</td>\n",
       "      <td>20141209T000000</td>\n",
       "      <td>538000.00</td>\n",
       "      <td>3</td>\n",
       "      <td>2.25</td>\n",
       "      <td>2570</td>\n",
       "      <td>7242</td>\n",
       "      <td>2.00</td>\n",
       "      <td>0</td>\n",
       "      <td>0</td>\n",
       "      <td>...</td>\n",
       "      <td>7</td>\n",
       "      <td>2170</td>\n",
       "      <td>400</td>\n",
       "      <td>1951</td>\n",
       "      <td>1991</td>\n",
       "      <td>98125</td>\n",
       "      <td>47.72</td>\n",
       "      <td>-122.32</td>\n",
       "      <td>1690</td>\n",
       "      <td>7639</td>\n",
       "    </tr>\n",
       "    <tr>\n",
       "      <th>2</th>\n",
       "      <td>5631500400</td>\n",
       "      <td>20150225T000000</td>\n",
       "      <td>180000.00</td>\n",
       "      <td>2</td>\n",
       "      <td>1.00</td>\n",
       "      <td>770</td>\n",
       "      <td>10000</td>\n",
       "      <td>1.00</td>\n",
       "      <td>0</td>\n",
       "      <td>0</td>\n",
       "      <td>...</td>\n",
       "      <td>6</td>\n",
       "      <td>770</td>\n",
       "      <td>0</td>\n",
       "      <td>1933</td>\n",
       "      <td>0</td>\n",
       "      <td>98028</td>\n",
       "      <td>47.74</td>\n",
       "      <td>-122.23</td>\n",
       "      <td>2720</td>\n",
       "      <td>8062</td>\n",
       "    </tr>\n",
       "    <tr>\n",
       "      <th>3</th>\n",
       "      <td>2487200875</td>\n",
       "      <td>20141209T000000</td>\n",
       "      <td>604000.00</td>\n",
       "      <td>4</td>\n",
       "      <td>3.00</td>\n",
       "      <td>1960</td>\n",
       "      <td>5000</td>\n",
       "      <td>1.00</td>\n",
       "      <td>0</td>\n",
       "      <td>0</td>\n",
       "      <td>...</td>\n",
       "      <td>7</td>\n",
       "      <td>1050</td>\n",
       "      <td>910</td>\n",
       "      <td>1965</td>\n",
       "      <td>0</td>\n",
       "      <td>98136</td>\n",
       "      <td>47.52</td>\n",
       "      <td>-122.39</td>\n",
       "      <td>1360</td>\n",
       "      <td>5000</td>\n",
       "    </tr>\n",
       "    <tr>\n",
       "      <th>4</th>\n",
       "      <td>1954400510</td>\n",
       "      <td>20150218T000000</td>\n",
       "      <td>510000.00</td>\n",
       "      <td>3</td>\n",
       "      <td>2.00</td>\n",
       "      <td>1680</td>\n",
       "      <td>8080</td>\n",
       "      <td>1.00</td>\n",
       "      <td>0</td>\n",
       "      <td>0</td>\n",
       "      <td>...</td>\n",
       "      <td>8</td>\n",
       "      <td>1680</td>\n",
       "      <td>0</td>\n",
       "      <td>1987</td>\n",
       "      <td>0</td>\n",
       "      <td>98074</td>\n",
       "      <td>47.62</td>\n",
       "      <td>-122.05</td>\n",
       "      <td>1800</td>\n",
       "      <td>7503</td>\n",
       "    </tr>\n",
       "  </tbody>\n",
       "</table>\n",
       "<p>5 rows × 21 columns</p>\n",
       "</div>"
      ],
      "text/plain": [
       "           id             date     price  bedrooms  bathrooms  sqft_living  \\\n",
       "0  7129300520  20141013T000000 221900.00         3       1.00         1180   \n",
       "1  6414100192  20141209T000000 538000.00         3       2.25         2570   \n",
       "2  5631500400  20150225T000000 180000.00         2       1.00          770   \n",
       "3  2487200875  20141209T000000 604000.00         4       3.00         1960   \n",
       "4  1954400510  20150218T000000 510000.00         3       2.00         1680   \n",
       "\n",
       "   sqft_lot  floors  waterfront  view  ...  grade  sqft_above  sqft_basement  \\\n",
       "0      5650    1.00           0     0  ...      7        1180              0   \n",
       "1      7242    2.00           0     0  ...      7        2170            400   \n",
       "2     10000    1.00           0     0  ...      6         770              0   \n",
       "3      5000    1.00           0     0  ...      7        1050            910   \n",
       "4      8080    1.00           0     0  ...      8        1680              0   \n",
       "\n",
       "   yr_built  yr_renovated  zipcode   lat    long  sqft_living15  sqft_lot15  \n",
       "0      1955             0    98178 47.51 -122.26           1340        5650  \n",
       "1      1951          1991    98125 47.72 -122.32           1690        7639  \n",
       "2      1933             0    98028 47.74 -122.23           2720        8062  \n",
       "3      1965             0    98136 47.52 -122.39           1360        5000  \n",
       "4      1987             0    98074 47.62 -122.05           1800        7503  \n",
       "\n",
       "[5 rows x 21 columns]"
      ]
     },
     "execution_count": 2,
     "metadata": {},
     "output_type": "execute_result"
    }
   ],
   "source": [
    "df = pd.read_csv('kc_house_data.csv')\n",
    "df.head()"
   ]
  },
  {
   "cell_type": "code",
   "execution_count": 4,
   "id": "08864e62",
   "metadata": {
    "ExecuteTime": {
     "end_time": "2022-08-08T21:48:22.153426Z",
     "start_time": "2022-08-08T21:48:22.142427Z"
    }
   },
   "outputs": [
    {
     "data": {
      "text/plain": [
       "(21613, 21)"
      ]
     },
     "execution_count": 4,
     "metadata": {},
     "output_type": "execute_result"
    }
   ],
   "source": [
    "df.shape"
   ]
  },
  {
   "cell_type": "code",
   "execution_count": 8,
   "id": "e2f92fcc",
   "metadata": {
    "ExecuteTime": {
     "end_time": "2022-08-08T21:48:22.606255Z",
     "start_time": "2022-08-08T21:48:22.578223Z"
    },
    "scrolled": false
   },
   "outputs": [
    {
     "name": "stdout",
     "output_type": "stream",
     "text": [
      "<class 'pandas.core.frame.DataFrame'>\n",
      "RangeIndex: 21613 entries, 0 to 21612\n",
      "Data columns (total 21 columns):\n",
      " #   Column         Non-Null Count  Dtype  \n",
      "---  ------         --------------  -----  \n",
      " 0   id             21613 non-null  int64  \n",
      " 1   date           21613 non-null  object \n",
      " 2   price          21613 non-null  float64\n",
      " 3   bedrooms       21613 non-null  int64  \n",
      " 4   bathrooms      21613 non-null  float64\n",
      " 5   sqft_living    21613 non-null  int64  \n",
      " 6   sqft_lot       21613 non-null  int64  \n",
      " 7   floors         21613 non-null  float64\n",
      " 8   waterfront     21613 non-null  int64  \n",
      " 9   view           21613 non-null  int64  \n",
      " 10  condition      21613 non-null  int64  \n",
      " 11  grade          21613 non-null  int64  \n",
      " 12  sqft_above     21613 non-null  int64  \n",
      " 13  sqft_basement  21613 non-null  int64  \n",
      " 14  yr_built       21613 non-null  int64  \n",
      " 15  yr_renovated   21613 non-null  int64  \n",
      " 16  zipcode        21613 non-null  int64  \n",
      " 17  lat            21613 non-null  float64\n",
      " 18  long           21613 non-null  float64\n",
      " 19  sqft_living15  21613 non-null  int64  \n",
      " 20  sqft_lot15     21613 non-null  int64  \n",
      "dtypes: float64(5), int64(15), object(1)\n",
      "memory usage: 3.5+ MB\n"
     ]
    }
   ],
   "source": [
    "df.info()"
   ]
  },
  {
   "cell_type": "code",
   "execution_count": 6,
   "id": "94cdca6f",
   "metadata": {
    "ExecuteTime": {
     "end_time": "2022-08-08T21:48:22.184325Z",
     "start_time": "2022-08-08T21:48:22.171472Z"
    }
   },
   "outputs": [
    {
     "data": {
      "text/plain": [
       "id               False\n",
       "date             False\n",
       "price            False\n",
       "bedrooms         False\n",
       "bathrooms        False\n",
       "sqft_living      False\n",
       "sqft_lot         False\n",
       "floors           False\n",
       "waterfront       False\n",
       "view             False\n",
       "condition        False\n",
       "grade            False\n",
       "sqft_above       False\n",
       "sqft_basement    False\n",
       "yr_built         False\n",
       "yr_renovated     False\n",
       "zipcode          False\n",
       "lat              False\n",
       "long             False\n",
       "sqft_living15    False\n",
       "sqft_lot15       False\n",
       "dtype: bool"
      ]
     },
     "execution_count": 6,
     "metadata": {},
     "output_type": "execute_result"
    }
   ],
   "source": [
    "df.isnull().any()"
   ]
  },
  {
   "cell_type": "code",
   "execution_count": 7,
   "id": "94ae9248",
   "metadata": {
    "ExecuteTime": {
     "end_time": "2022-08-08T21:48:22.574914Z",
     "start_time": "2022-08-08T21:48:22.185326Z"
    },
    "scrolled": false
   },
   "outputs": [
    {
     "data": {
      "text/plain": [
       "<AxesSubplot:>"
      ]
     },
     "execution_count": 7,
     "metadata": {},
     "output_type": "execute_result"
    },
    {
     "data": {
      "image/png": "[encoded data removed]",
      "text/plain": [
       "<Figure size 1800x720 with 2 Axes>"
      ]
     },
     "metadata": {
      "needs_background": "light"
     },
     "output_type": "display_data"
    }
   ],
   "source": [
    "msnum.matrix(df)"
   ]
  },
  {
   "cell_type": "markdown",
   "id": "a515a0bb",
   "metadata": {},
   "source": [
    "### Transformação dos dados"
   ]
  },
  {
   "cell_type": "code",
   "execution_count": 3,
   "id": "f7287a1c",
   "metadata": {
    "ExecuteTime": {
     "end_time": "2022-08-11T11:21:32.870768Z",
     "start_time": "2022-08-11T11:21:32.836948Z"
    }
   },
   "outputs": [],
   "source": [
    "#correção da tipagem dos dados\n",
    "df['date'] = pd.to_datetime(df['date'])\n",
    "\n",
    "#remoção de variáveis não utilizadas na solução \n",
    "df = df.drop(columns = ['sqft_above', 'sqft_living15', 'sqft_lot15'])"
   ]
  },
  {
   "cell_type": "code",
   "execution_count": 10,
   "id": "d843b03f",
   "metadata": {
    "ExecuteTime": {
     "end_time": "2022-08-08T21:48:30.598013Z",
     "start_time": "2022-08-08T21:48:22.640076Z"
    }
   },
   "outputs": [
    {
     "data": {
      "application/vnd.jupyter.widget-view+json": {
       "model_id": "7c32b0f2f8564550a655b3c6217343d5",
       "version_major": 2,
       "version_minor": 0
      },
      "text/plain": [
       "                                             |          | [  0%]   00:00 -> (? left)"
      ]
     },
     "metadata": {},
     "output_type": "display_data"
    },
    {
     "name": "stdout",
     "output_type": "stream",
     "text": [
      "Report SWEETVIZ_REPORT.html was generated! NOTEBOOK/COLAB USERS: the web browser MAY not pop up, regardless, the report IS saved in your notebook/colab files.\n"
     ]
    }
   ],
   "source": [
    "#avaliando os parâmetros através de ferramenta low code\n",
    "analyze_report = sv.analyze(df)\n",
    "\n",
    "analyze_report.show_html(filepath='SWEETVIZ_REPORT.html', \n",
    "                         open_browser=True, \n",
    "                         layout='widescreen', \n",
    "                         scale=None)"
   ]
  },
  {
   "cell_type": "markdown",
   "id": "96cbbbb9",
   "metadata": {},
   "source": [
    "### Análise descritiva"
   ]
  },
  {
   "cell_type": "code",
   "execution_count": 11,
   "id": "a07703ee",
   "metadata": {
    "ExecuteTime": {
     "end_time": "2022-08-08T21:48:30.645289Z",
     "start_time": "2022-08-08T21:48:30.599974Z"
    },
    "scrolled": false
   },
   "outputs": [
    {
     "data": {
      "text/html": [
       "<div>\n",
       "<style scoped>\n",
       "    .dataframe tbody tr th:only-of-type {\n",
       "        vertical-align: middle;\n",
       "    }\n",
       "\n",
       "    .dataframe tbody tr th {\n",
       "        vertical-align: top;\n",
       "    }\n",
       "\n",
       "    .dataframe thead th {\n",
       "        text-align: right;\n",
       "    }\n",
       "</style>\n",
       "<table border=\"1\" class=\"dataframe\">\n",
       "  <thead>\n",
       "    <tr style=\"text-align: right;\">\n",
       "      <th></th>\n",
       "      <th>atributos</th>\n",
       "      <th>media</th>\n",
       "      <th>mediana</th>\n",
       "      <th>desvio padrão</th>\n",
       "      <th>máximo</th>\n",
       "      <th>mínimo</th>\n",
       "    </tr>\n",
       "  </thead>\n",
       "  <tbody>\n",
       "    <tr>\n",
       "      <th>0</th>\n",
       "      <td>id</td>\n",
       "      <td>4580301520.86</td>\n",
       "      <td>3904930410.00</td>\n",
       "      <td>2876565571.31</td>\n",
       "      <td>9900000190.00</td>\n",
       "      <td>1000102.00</td>\n",
       "    </tr>\n",
       "    <tr>\n",
       "      <th>1</th>\n",
       "      <td>price</td>\n",
       "      <td>540088.14</td>\n",
       "      <td>450000.00</td>\n",
       "      <td>367127.20</td>\n",
       "      <td>7700000.00</td>\n",
       "      <td>75000.00</td>\n",
       "    </tr>\n",
       "    <tr>\n",
       "      <th>2</th>\n",
       "      <td>bedrooms</td>\n",
       "      <td>3.37</td>\n",
       "      <td>3.00</td>\n",
       "      <td>0.93</td>\n",
       "      <td>33.00</td>\n",
       "      <td>0.00</td>\n",
       "    </tr>\n",
       "    <tr>\n",
       "      <th>3</th>\n",
       "      <td>bathrooms</td>\n",
       "      <td>2.11</td>\n",
       "      <td>2.25</td>\n",
       "      <td>0.77</td>\n",
       "      <td>8.00</td>\n",
       "      <td>0.00</td>\n",
       "    </tr>\n",
       "    <tr>\n",
       "      <th>4</th>\n",
       "      <td>sqft_living</td>\n",
       "      <td>2079.90</td>\n",
       "      <td>1910.00</td>\n",
       "      <td>918.44</td>\n",
       "      <td>13540.00</td>\n",
       "      <td>290.00</td>\n",
       "    </tr>\n",
       "    <tr>\n",
       "      <th>5</th>\n",
       "      <td>sqft_lot</td>\n",
       "      <td>15106.97</td>\n",
       "      <td>7618.00</td>\n",
       "      <td>41420.51</td>\n",
       "      <td>1651359.00</td>\n",
       "      <td>520.00</td>\n",
       "    </tr>\n",
       "    <tr>\n",
       "      <th>6</th>\n",
       "      <td>floors</td>\n",
       "      <td>1.49</td>\n",
       "      <td>1.50</td>\n",
       "      <td>0.54</td>\n",
       "      <td>3.50</td>\n",
       "      <td>1.00</td>\n",
       "    </tr>\n",
       "    <tr>\n",
       "      <th>7</th>\n",
       "      <td>waterfront</td>\n",
       "      <td>0.01</td>\n",
       "      <td>0.00</td>\n",
       "      <td>0.09</td>\n",
       "      <td>1.00</td>\n",
       "      <td>0.00</td>\n",
       "    </tr>\n",
       "    <tr>\n",
       "      <th>8</th>\n",
       "      <td>view</td>\n",
       "      <td>0.23</td>\n",
       "      <td>0.00</td>\n",
       "      <td>0.77</td>\n",
       "      <td>4.00</td>\n",
       "      <td>0.00</td>\n",
       "    </tr>\n",
       "    <tr>\n",
       "      <th>9</th>\n",
       "      <td>condition</td>\n",
       "      <td>3.41</td>\n",
       "      <td>3.00</td>\n",
       "      <td>0.65</td>\n",
       "      <td>5.00</td>\n",
       "      <td>1.00</td>\n",
       "    </tr>\n",
       "    <tr>\n",
       "      <th>10</th>\n",
       "      <td>grade</td>\n",
       "      <td>7.66</td>\n",
       "      <td>7.00</td>\n",
       "      <td>1.18</td>\n",
       "      <td>13.00</td>\n",
       "      <td>1.00</td>\n",
       "    </tr>\n",
       "    <tr>\n",
       "      <th>11</th>\n",
       "      <td>sqft_basement</td>\n",
       "      <td>291.51</td>\n",
       "      <td>0.00</td>\n",
       "      <td>442.58</td>\n",
       "      <td>4820.00</td>\n",
       "      <td>0.00</td>\n",
       "    </tr>\n",
       "    <tr>\n",
       "      <th>12</th>\n",
       "      <td>yr_built</td>\n",
       "      <td>1971.01</td>\n",
       "      <td>1975.00</td>\n",
       "      <td>29.37</td>\n",
       "      <td>2015.00</td>\n",
       "      <td>1900.00</td>\n",
       "    </tr>\n",
       "    <tr>\n",
       "      <th>13</th>\n",
       "      <td>yr_renovated</td>\n",
       "      <td>84.40</td>\n",
       "      <td>0.00</td>\n",
       "      <td>401.68</td>\n",
       "      <td>2015.00</td>\n",
       "      <td>0.00</td>\n",
       "    </tr>\n",
       "    <tr>\n",
       "      <th>14</th>\n",
       "      <td>zipcode</td>\n",
       "      <td>98077.94</td>\n",
       "      <td>98065.00</td>\n",
       "      <td>53.51</td>\n",
       "      <td>98199.00</td>\n",
       "      <td>98001.00</td>\n",
       "    </tr>\n",
       "    <tr>\n",
       "      <th>15</th>\n",
       "      <td>lat</td>\n",
       "      <td>47.56</td>\n",
       "      <td>47.57</td>\n",
       "      <td>0.14</td>\n",
       "      <td>47.78</td>\n",
       "      <td>47.16</td>\n",
       "    </tr>\n",
       "    <tr>\n",
       "      <th>16</th>\n",
       "      <td>long</td>\n",
       "      <td>-122.21</td>\n",
       "      <td>-122.23</td>\n",
       "      <td>0.14</td>\n",
       "      <td>-121.31</td>\n",
       "      <td>-122.52</td>\n",
       "    </tr>\n",
       "  </tbody>\n",
       "</table>\n",
       "</div>"
      ],
      "text/plain": [
       "        atributos         media       mediana  desvio padrão        máximo  \\\n",
       "0              id 4580301520.86 3904930410.00  2876565571.31 9900000190.00   \n",
       "1           price     540088.14     450000.00      367127.20    7700000.00   \n",
       "2        bedrooms          3.37          3.00           0.93         33.00   \n",
       "3       bathrooms          2.11          2.25           0.77          8.00   \n",
       "4     sqft_living       2079.90       1910.00         918.44      13540.00   \n",
       "5        sqft_lot      15106.97       7618.00       41420.51    1651359.00   \n",
       "6          floors          1.49          1.50           0.54          3.50   \n",
       "7      waterfront          0.01          0.00           0.09          1.00   \n",
       "8            view          0.23          0.00           0.77          4.00   \n",
       "9       condition          3.41          3.00           0.65          5.00   \n",
       "10          grade          7.66          7.00           1.18         13.00   \n",
       "11  sqft_basement        291.51          0.00         442.58       4820.00   \n",
       "12       yr_built       1971.01       1975.00          29.37       2015.00   \n",
       "13   yr_renovated         84.40          0.00         401.68       2015.00   \n",
       "14        zipcode      98077.94      98065.00          53.51      98199.00   \n",
       "15            lat         47.56         47.57           0.14         47.78   \n",
       "16           long       -122.21       -122.23           0.14       -121.31   \n",
       "\n",
       "       mínimo  \n",
       "0  1000102.00  \n",
       "1    75000.00  \n",
       "2        0.00  \n",
       "3        0.00  \n",
       "4      290.00  \n",
       "5      520.00  \n",
       "6        1.00  \n",
       "7        0.00  \n",
       "8        0.00  \n",
       "9        1.00  \n",
       "10       1.00  \n",
       "11       0.00  \n",
       "12    1900.00  \n",
       "13       0.00  \n",
       "14   98001.00  \n",
       "15      47.16  \n",
       "16    -122.52  "
      ]
     },
     "execution_count": 11,
     "metadata": {},
     "output_type": "execute_result"
    }
   ],
   "source": [
    "#análise descritiva\n",
    "num_attributes = df.select_dtypes(include=['int64', 'float64'])\n",
    "\n",
    "#medidas de dispersão e de tendência \n",
    "mean = num_attributes.mean() \n",
    "median = num_attributes.median()\n",
    "st_deviation = num_attributes.std()\n",
    "max_ = num_attributes.max()\n",
    "min_ = num_attributes.min()\n",
    "\n",
    "#unindo os dados\n",
    "descriptive_metrics = pd.concat([mean, median, st_deviation, max_, min_], axis=1).reset_index()\n",
    "descriptive_metrics.columns = ['atributos','media', 'mediana', 'desvio padrão', 'máximo', 'mínimo']\n",
    "descriptive_metrics"
   ]
  },
  {
   "cell_type": "markdown",
   "id": "165dca21",
   "metadata": {},
   "source": [
    "### Limpeza dos dados"
   ]
  },
  {
   "cell_type": "code",
   "execution_count": 4,
   "id": "63c00952",
   "metadata": {
    "ExecuteTime": {
     "end_time": "2022-08-11T11:21:32.945207Z",
     "start_time": "2022-08-11T11:21:32.912754Z"
    }
   },
   "outputs": [],
   "source": [
    "#lidando com outliers \n",
    "'''\n",
    "Nota-se que há uma casa com 33 quartos, entretanto, ao realizar algumas análises sobre o imóvel percebe-se que este pode ser \n",
    "um erro de digitação, tendo em vista que o seu preço e tamanho está dentro do esperado para imóveis com 3 quartos.\n",
    "Dessa forma assumiu-se que 33 quartos é, na verdade, 3 quartos. \n",
    "'''\n",
    "\n",
    "df_bedrooms = df[df['bedrooms'].isin([3, 33])]\n",
    "df_bedrooms[['bedrooms', 'price', 'sqft_living', 'sqft_lot']].groupby('bedrooms').mean().reset_index()\n",
    "\n",
    "df.loc[df['bedrooms']==33,'bedrooms'] = 3\n"
   ]
  },
  {
   "cell_type": "markdown",
   "id": "7f3deb42",
   "metadata": {},
   "source": [
    "## Insights"
   ]
  },
  {
   "cell_type": "code",
   "execution_count": 29,
   "id": "9c02fc97",
   "metadata": {
    "ExecuteTime": {
     "end_time": "2022-08-09T20:34:45.775553Z",
     "start_time": "2022-08-09T20:34:45.564636Z"
    }
   },
   "outputs": [
    {
     "name": "stdout",
     "output_type": "stream",
     "text": [
      "A hipótese é verdadeira. Imóveis que possuem vista para água são, em média, 212.64% mais caros que os demais.\n"
     ]
    },
    {
     "data": {
      "image/png": "[encoded data removed]",
      "text/plain": [
       "<Figure size 1440x720 with 1 Axes>"
      ]
     },
     "metadata": {
      "needs_background": "light"
     },
     "output_type": "display_data"
    }
   ],
   "source": [
    "#h1: Imóveis que possuem vista para água, são 30% mais caros que os demais, na média. \n",
    "df_h1 = df[['waterfront','price']].groupby('waterfront').mean().reset_index()\n",
    "df_h1['percentage'] = df_h1['price'].pct_change()*100\n",
    "\n",
    "result = ''\n",
    "if df_h1.loc[1, 'percentage'] > 30:\n",
    "    result = 'verdadeira'\n",
    "else: 'falsa'\n",
    "\n",
    "print('A hipótese é {:}. Imóveis que possuem vista para água são, em média, {:.2f}% mais caros que os demais.'\n",
    "      .format(result, df_h1.loc[1,'percentage']))\n",
    "\n",
    "#plot\n",
    "sn.set_context(\"talk\")\n",
    "h1 = sn.barplot(data=df_h1, x='waterfront', y='price', palette = 'autumn_r');\n",
    "h1.set(ylabel = 'Price (U$)',\n",
    "      xlabel= '',\n",
    "      xticklabels=[\"General\", \"Water View\"]);\n",
    "sn.despine();"
   ]
  },
  {
   "cell_type": "code",
   "execution_count": 28,
   "id": "7e65d859",
   "metadata": {
    "ExecuteTime": {
     "end_time": "2022-08-09T20:34:41.842303Z",
     "start_time": "2022-08-09T20:34:41.639976Z"
    }
   },
   "outputs": [
    {
     "name": "stdout",
     "output_type": "stream",
     "text": [
      "A hipótese é falsa. Imóveis construídos antes de 1955 são, em média, apenas 0.79% mais baratos que os demais.\n"
     ]
    },
    {
     "data": {
      "image/png": "[encoded data removed]",
      "text/plain": [
       "<Figure size 1440x720 with 1 Axes>"
      ]
     },
     "metadata": {
      "needs_background": "light"
     },
     "output_type": "display_data"
    }
   ],
   "source": [
    "#h2: Imóveis construídos antes de 1955 são 50% mais baratos, na média. \n",
    "\n",
    "df['Ano_Construcao'] = df['yr_built'].apply(lambda x: \"1930 - 1955\" if x < 1955 else\n",
    "                                                      \"1955 - 2015\") \n",
    "df_h2 = df[['Ano_Construcao', 'price']].groupby('Ano_Construcao').mean().reset_index()\n",
    "df_h2['pct'] = df_h2['price'].pct_change()*100\n",
    "\n",
    "result = ''\n",
    "if df_h2.loc[1, 'pct'] > 50:\n",
    "    result = 'verdadeira'\n",
    "else: result = 'falsa'\n",
    "\n",
    "print('A hipótese é {:}. Imóveis construídos antes de 1955 são, em média, apenas {:.2f}% mais baratos que os demais.'\n",
    "      .format(result, df_h2.loc[1,'pct']))\n",
    "\n",
    "#plot\n",
    "sn.set_context(\"talk\")\n",
    "h2 = sn.barplot(data=df_h2, x='Ano_Construcao', y='price', palette = 'autumn_r');\n",
    "h2.set(ylabel = 'Price (U$)',\n",
    "      xlabel= '');\n",
    "sn.despine();"
   ]
  },
  {
   "cell_type": "code",
   "execution_count": 27,
   "id": "1c3bae97",
   "metadata": {
    "ExecuteTime": {
     "end_time": "2022-08-09T20:34:37.475462Z",
     "start_time": "2022-08-09T20:34:37.264064Z"
    }
   },
   "outputs": [
    {
     "name": "stdout",
     "output_type": "stream",
     "text": [
      "A hipótese é falsa. Imóveis sem porão são, em média, 22.56% maiores que os demais.\n"
     ]
    },
    {
     "data": {
      "image/png": "[encoded data removed]",
      "text/plain": [
       "<Figure size 1440x720 with 1 Axes>"
      ]
     },
     "metadata": {
      "needs_background": "light"
     },
     "output_type": "display_data"
    }
   ],
   "source": [
    "#h3: Imóveis sem porão possuem área total 40% maior que os imóveis com porão.\n",
    "\n",
    "df['Porao'] = df['sqft_basement'].apply(lambda x: \"Com porão\" if x > 0 else\n",
    "                                                  \"Sem porão\") \n",
    "df_h3 = df[['Porao', 'sqft_lot']].groupby('Porao').mean().reset_index()\n",
    "df_h3['pct'] = df_h3['sqft_lot'].pct_change()*100\n",
    "\n",
    "result = ''\n",
    "if df_h3.loc[1, 'pct'] > 40:\n",
    "    result = 'verdadeira'\n",
    "else: result = 'falsa'\n",
    "\n",
    "print('A hipótese é {:}. Imóveis sem porão são, em média, {:.2f}% maiores que os demais.'\n",
    "      .format(result, df_h3.loc[1,'pct']))\n",
    "\n",
    "#plot\n",
    "sn.set_context(\"talk\")\n",
    "h3 = sn.barplot(data=df_h3, x='Porao', y='sqft_lot', palette = 'autumn_r');\n",
    "h3.set(ylabel = 'Área total (sqft)',\n",
    "      xlabel= '');\n",
    "sn.despine();"
   ]
  },
  {
   "cell_type": "code",
   "execution_count": 26,
   "id": "a0416a33",
   "metadata": {
    "ExecuteTime": {
     "end_time": "2022-08-09T20:34:32.835189Z",
     "start_time": "2022-08-09T20:34:32.356920Z"
    }
   },
   "outputs": [
    {
     "name": "stdout",
     "output_type": "stream",
     "text": [
      "A hipótese é falsa. A variação ano após ano dos imóveis é de apenas 0.52%.\n"
     ]
    },
    {
     "data": {
      "image/png": "[encoded data removed]",
      "text/plain": [
       "<Figure size 1440x720 with 1 Axes>"
      ]
     },
     "metadata": {
      "needs_background": "light"
     },
     "output_type": "display_data"
    }
   ],
   "source": [
    "#h4: O crescimento do preço dos imóveis YoY é de 10%. \n",
    "\n",
    "df_h4 = df.copy()\n",
    "df_h4['Year'] = df_h4['date'].dt.strftime('%Y')\n",
    "df_h4 = df_h4[['Year', 'price']].groupby('Year').mean().reset_index()\n",
    "df_h4['pct'] = df_h4['price'].pct_change()*100\n",
    "\n",
    "result = ''\n",
    "if df_h4.loc[1, 'pct'] > 10:\n",
    "    result = 'verdadeira'\n",
    "else: result = 'falsa'\n",
    "\n",
    "print('A hipótese é {:}. A variação ano após ano dos imóveis é de apenas {:.2f}%.'.format(result, df_h4.loc[1,'pct']))\n",
    "\n",
    "#plot\n",
    "sn.set_context(\"talk\")\n",
    "h4 = sn.barplot(data=df_h4, x='Year', y='price', palette = 'autumn_r');\n",
    "h4.set(ylabel = 'Price (U$)',\n",
    "      xlabel= '');\n",
    "sn.despine();"
   ]
  },
  {
   "cell_type": "code",
   "execution_count": 25,
   "id": "6520c5fa",
   "metadata": {
    "ExecuteTime": {
     "end_time": "2022-08-09T20:34:17.715766Z",
     "start_time": "2022-08-09T20:34:17.187567Z"
    }
   },
   "outputs": [
    {
     "data": {
      "image/png": "[encoded data removed]",
      "text/plain": [
       "<Figure size 1440x720 with 1 Axes>"
      ]
     },
     "metadata": {
      "needs_background": "light"
     },
     "output_type": "display_data"
    }
   ],
   "source": [
    "#h5: Imóveis com 3 banheiros tem um crescimento de MoM de 15%. \n",
    "\n",
    "df_h5 = df.loc[df['bathrooms'] == 3].copy()\n",
    "df_h5['mês'] = df_h5['date'].dt.strftime('%Y-%m')\n",
    "df_h5['Year'] = df_h5['date'].dt.strftime('%Y')\n",
    "\n",
    "df_h5 = df_h5[['mês', 'price']].groupby('mês').mean().reset_index()\n",
    "df_h5['pct'] = df_h5['price'].pct_change()*100\n",
    "df_h5['pct_variacao'] = df_h5['pct'].apply(lambda x: 'Positiva' if x > 0 else 'Negativa')\n",
    "\n",
    "#plot\n",
    "sn.set_context(\"talk\")\n",
    "h5 = sn.barplot(data=df_h5, x='mês', y='pct', hue= 'pct_variacao', palette = 'autumn_r');\n",
    "h5.set(ylabel = 'Variação do preço (%)',\n",
    "      xlabel= '');\n",
    "sn.despine();\n",
    "for container in h5.containers:\n",
    "    h5.bar_label(container, fmt= '%.f%%')\n",
    "h5.get_legend().set_title(None)"
   ]
  },
  {
   "cell_type": "code",
   "execution_count": 147,
   "id": "19451903",
   "metadata": {
    "ExecuteTime": {
     "end_time": "2022-08-09T23:52:52.810932Z",
     "start_time": "2022-08-09T23:52:52.224373Z"
    }
   },
   "outputs": [
    {
     "name": "stdout",
     "output_type": "stream",
     "text": [
      "A hipótese é verdadeira. Imóveis com 2 ou mais andares são 29.46% mais caros que os demais, em média.\n"
     ]
    },
    {
     "data": {
      "image/png": "[encoded data removed]",
      "text/plain": [
       "<Figure size 1440x720 with 1 Axes>"
      ]
     },
     "metadata": {
      "needs_background": "light"
     },
     "output_type": "display_data"
    }
   ],
   "source": [
    "#h6: Imóveis com 2 ou mais andares são 25% mais caros que a média. \n",
    "\n",
    "df['price_floors'] = df['floors'].apply(lambda x: \"2 ou mais\" if x >= 2 else \"Menos de 2\")\n",
    "df_h6 = df[['price_floors', 'price']].groupby('price_floors').mean().reset_index()\n",
    "df_h6['pct'] = df_h6['price'].pct_change()*-100\n",
    "\n",
    "result = ''\n",
    "if df_h6.loc[1, 'pct'] > 25:\n",
    "    result = 'verdadeira'\n",
    "else: result = 'falsa'\n",
    "\n",
    "print('A hipótese é {:}. Imóveis com 2 ou mais andares são {:.2f}% mais caros que os demais, em média.'\n",
    "      .format(result, df_h6.loc[1,'pct']))\n",
    "\n",
    "#plot\n",
    "sn.set_context(\"talk\")\n",
    "h6 = sn.barplot(data=df_h6, x='price_floors', y='price', palette = 'autumn_r');\n",
    "h6.set(ylabel = 'Price (U$)',\n",
    "      xlabel= 'Andares');\n",
    "sn.despine();"
   ]
  },
  {
   "cell_type": "code",
   "execution_count": 23,
   "id": "b9deacd5",
   "metadata": {
    "ExecuteTime": {
     "end_time": "2022-08-09T20:34:08.383952Z",
     "start_time": "2022-08-09T20:34:08.192605Z"
    }
   },
   "outputs": [
    {
     "name": "stdout",
     "output_type": "stream",
     "text": [
      "A hipótese é verdadeira. Imóveis reformados são 43.37% mais caros que os demais, em média.\n"
     ]
    },
    {
     "data": {
      "image/png": "[encoded data removed]",
      "text/plain": [
       "<Figure size 1440x720 with 1 Axes>"
      ]
     },
     "metadata": {
      "needs_background": "light"
     },
     "output_type": "display_data"
    }
   ],
   "source": [
    "#h7: Imóveis reformados são 40% mais caros que a média. \n",
    "\n",
    "df_h7 = df.copy()\n",
    "df_h7['renovation'] = df_h7['yr_renovated'].apply(lambda x: 'Renovated' if x > 0\n",
    "                                                 else 'Not renovated')\n",
    "df_h7 = df_h7[['renovation', 'price']].groupby('renovation').mean().reset_index()\n",
    "df_h7['pct'] = df_h7['price'].pct_change()*100\n",
    "\n",
    "result = ''\n",
    "if df_h7.loc[1, 'pct'] > 40:\n",
    "    result = 'verdadeira'\n",
    "else: \n",
    "    result = 'falsa'\n",
    "\n",
    "print('A hipótese é {:}. Imóveis reformados são {:.2f}% mais caros que os demais, em média.'\n",
    "      .format(result, df_h7.loc[1,'pct']))\n",
    "\n",
    "#plot\n",
    "sn.set_context(\"talk\")\n",
    "h7 = sn.barplot(data=df_h7, x='renovation', y='price', palette = 'autumn_r');\n",
    "h7.set(ylabel = 'Price (U$)',\n",
    "      xlabel= '');\n",
    "sn.despine();"
   ]
  },
  {
   "cell_type": "code",
   "execution_count": 11,
   "id": "3071db93",
   "metadata": {
    "ExecuteTime": {
     "end_time": "2022-08-10T19:29:14.967490Z",
     "start_time": "2022-08-10T19:29:14.692022Z"
    },
    "scrolled": false
   },
   "outputs": [
    {
     "name": "stdout",
     "output_type": "stream",
     "text": [
      "A hipótese é verdadeira. Imóveis que possuem 2 banheiros ou menos são 124.68% mais baratos que os demais, em média.\n"
     ]
    },
    {
     "data": {
      "image/png": "[encoded data removed]",
      "text/plain": [
       "<Figure size 1440x720 with 1 Axes>"
      ]
     },
     "metadata": {
      "needs_background": "light"
     },
     "output_type": "display_data"
    }
   ],
   "source": [
    "#h8: Imóveis que possuem três banheiros ou menos são 30% mais baratos que os demais. \n",
    "\n",
    "df_h8 = df.copy()\n",
    "df_h8['p_bathrooms'] = df_h8['bathrooms'].apply(lambda x: '3 or less' if x <= 3 else 'More than 3')\n",
    "\n",
    "df_h8 = df_h8[['p_bathrooms', 'price']].groupby('p_bathrooms').mean().reset_index()\n",
    "df_h8['pct'] = df_h8['price'].pct_change()*100\n",
    "\n",
    "result = ''\n",
    "if df_h8.loc[1, 'pct'] > 15:\n",
    "    result = 'verdadeira'\n",
    "else: \n",
    "    result = 'falsa'\n",
    "\n",
    "print('A hipótese é {:}. Imóveis que possuem 2 banheiros ou menos são {:.2f}% mais baratos que os demais, em média.'\n",
    "      .format(result, df_h8.loc[1,'pct']))\n",
    "\n",
    "#plot\n",
    "sn.set_context(\"talk\")\n",
    "h8 = sn.barplot(data=df_h8, x='p_bathrooms', y='price', palette = 'autumn_r');\n",
    "h8.set(ylabel = 'Price U$',\n",
    "      xlabel= 'Number of bathrooms');\n",
    "plt.ticklabel_format(style='plain', axis='y')\n",
    "sn.despine();\n",
    "\n",
    "for container in h8.containers:\n",
    "    h8.bar_label(container, fmt= '%.2f', label_type='center')"
   ]
  },
  {
   "cell_type": "code",
   "execution_count": 149,
   "id": "c24f35e8",
   "metadata": {
    "ExecuteTime": {
     "end_time": "2022-08-09T23:53:38.577711Z",
     "start_time": "2022-08-09T23:53:37.527703Z"
    }
   },
   "outputs": [
    {
     "name": "stdout",
     "output_type": "stream",
     "text": [
      "A hipótese é verdadeira. Imóveis com nível elevado de design e construção (i.e. entre 11 e 13) são 227.21% mais caros que os demais, em média.\n"
     ]
    },
    {
     "data": {
      "image/png": "[encoded data removed]",
      "text/plain": [
       "<Figure size 1440x720 with 1 Axes>"
      ]
     },
     "metadata": {
      "needs_background": "light"
     },
     "output_type": "display_data"
    }
   ],
   "source": [
    "#h9: Imóveis que possuem elevado índice de design e construção são, em média, 30% mais caros que os demais. \n",
    "\n",
    "df_h9 = df.copy()\n",
    "df_h9['design_level'] = df['grade'].apply(lambda x: 'High' if x > 10 else \n",
    "                                         'Average or low')\n",
    "\n",
    "df_h9 = df_h9[['design_level', 'price']].groupby('design_level').mean().reset_index()\n",
    "df_h9['pct'] = df_h9['price'].pct_change()*100\n",
    "\n",
    "result = ''\n",
    "if df_h9.loc[1, 'pct'] > 30:\n",
    "    result = 'verdadeira'\n",
    "else: \n",
    "    result = 'falsa'\n",
    "\n",
    "print('A hipótese é {:}. Imóveis com nível elevado de design e construção (i.e. entre 11 e 13) são {:.2f}% mais caros que os demais, em média.'\n",
    "      .format(result, df_h9.loc[1,'pct']))\n",
    "\n",
    "#plot\n",
    "sn.set_context(\"talk\");\n",
    "h9 = sn.barplot(data=df, x='grade', y='price', palette = 'autumn_r');\n",
    "h9.set(ylabel = 'Price U$',\n",
    "      xlabel= 'Índice de design e construção');\n",
    "plt.ticklabel_format(style='plain', axis='y')\n",
    "sn.despine();"
   ]
  },
  {
   "cell_type": "code",
   "execution_count": 150,
   "id": "402edab5",
   "metadata": {
    "ExecuteTime": {
     "end_time": "2022-08-09T23:54:06.488738Z",
     "start_time": "2022-08-09T23:54:05.789731Z"
    }
   },
   "outputs": [
    {
     "name": "stdout",
     "output_type": "stream",
     "text": [
      "A hipótese é verdadeira. Imóveis com vista excelente (i.e. igual a 4) são 64.05% mais caros que os demais, em média.\n"
     ]
    },
    {
     "data": {
      "image/png": "[encoded data removed]",
      "text/plain": [
       "<Figure size 1440x720 with 1 Axes>"
      ]
     },
     "metadata": {
      "needs_background": "light"
     },
     "output_type": "display_data"
    }
   ],
   "source": [
    "#h10: Imóveis com uma vista excelente são, em média, 40% mais caros que os demais.\n",
    "\n",
    "df_h10 = df.copy()\n",
    "df_h10['e_view'] = df_h10['view'].apply(lambda x: 'Excelent' if x == 4 else \n",
    "                                         'Good to low')\n",
    "\n",
    "df_h10 = df_h10[['e_view', 'price']].groupby('e_view').mean().reset_index()\n",
    "df_h10['pct'] = df_h10['price'].pct_change()*-100\n",
    "\n",
    "result = ''\n",
    "if df_h10.loc[1, 'pct'] > 50:\n",
    "    result = 'verdadeira'\n",
    "else: \n",
    "    result = 'falsa'\n",
    "\n",
    "print('A hipótese é {:}. Imóveis com vista excelente (i.e. igual a 4) são {:.2f}% mais caros que os demais, em média.'\n",
    "      .format(result, df_h10.loc[1,'pct']))\n",
    "\n",
    "#plot\n",
    "sn.set_context(\"talk\");\n",
    "h10 = sn.barplot(data=df, x='view', y='price', palette= 'autumn_r');\n",
    "h10.set(ylabel = 'Price U$',\n",
    "      xlabel= 'View');\n",
    "plt.ticklabel_format(style='plain', axis='y')\n",
    "sn.despine();"
   ]
  },
  {
   "cell_type": "markdown",
   "id": "92153364",
   "metadata": {},
   "source": [
    "## Questões de negócio"
   ]
  },
  {
   "cell_type": "markdown",
   "id": "81f9c709",
   "metadata": {
    "ExecuteTime": {
     "end_time": "2022-08-08T21:48:30.676570Z",
     "start_time": "2022-08-08T21:48:30.672202Z"
    }
   },
   "source": [
    "### Quais são os negócios que a House Rocket deveria comprar e por qual preço"
   ]
  },
  {
   "cell_type": "markdown",
   "id": "c83144ee",
   "metadata": {},
   "source": [
    "#### Construção dos atributos e planilha final"
   ]
  },
  {
   "cell_type": "code",
   "execution_count": 71,
   "id": "4d40723c",
   "metadata": {
    "ExecuteTime": {
     "end_time": "2022-08-10T23:40:13.069768Z",
     "start_time": "2022-08-10T23:40:10.427237Z"
    }
   },
   "outputs": [],
   "source": [
    "df_q1 = df.copy()\n",
    "\n",
    "#definindo o valor mediano por zipcode -> valor regional \n",
    "regional_price = df_q1[['price', 'zipcode']].groupby('zipcode').median().reset_index()\n",
    "regional_price.columns = ['zipcode', 'regional_price']\n",
    "\n",
    "#agregando os resultados na planilha\n",
    "df_q1_regional_price = pd.merge(df_q1, regional_price, how='inner', on='zipcode')\n",
    "\n",
    "#criando coluna que receberá o status do imóvel -> recomendado ou não recomendado\n",
    "for i in range(len(df_q1_regional_price)):\n",
    "    if ((df_q1_regional_price.loc[i, 'price'] < df_q1_regional_price.loc[i, 'regional_price']) \n",
    "        & (df_q1_regional_price.loc[i, 'condition'] >= 3)):\n",
    "        df_q1_regional_price.loc[i, 'Status'] = 'Recommended'\n",
    "        \n",
    "    else:\n",
    "        df_q1_regional_price.loc[i, 'Status'] = 'Not recommended'\n",
    "\n",
    "#salvando tabela final \n",
    "df_q1_final = df_q1_regional_price.iloc[:, [0,1,2,18,13,14,15,16,17,19]]\n",
    "df_q1_final.to_csv('houses_to_buy.csv')"
   ]
  },
  {
   "cell_type": "markdown",
   "id": "852b94be",
   "metadata": {},
   "source": [
    "### Uma vez o imóvel comprado, qual o melhor momento para vendê-lo e por qual preço? "
   ]
  },
  {
   "cell_type": "markdown",
   "id": "f69c2d8f",
   "metadata": {},
   "source": [
    "#### Construção dos atributos e planilha final"
   ]
  },
  {
   "cell_type": "code",
   "execution_count": 72,
   "id": "cba9c56f",
   "metadata": {
    "ExecuteTime": {
     "end_time": "2022-08-10T23:41:59.369947Z",
     "start_time": "2022-08-10T23:41:59.021966Z"
    }
   },
   "outputs": [],
   "source": [
    "#filtrando os dados a partir dos insights\n",
    "df_q2 = df_q1_regional_price.loc[(df_q1_regional_price['Status'] == 'Recommended') &\n",
    "                                 (df_q1_regional_price['condition'] == 5) &\n",
    "                                 (df_q1_regional_price['waterfront'] == 0) & \n",
    "                                 (df_q1_regional_price['bathrooms'] <= 3) &\n",
    "                                 (df_q1_regional_price['yr_renovated'] == 0) &\n",
    "                                 (df_q1_regional_price['floors'] < 2) &\n",
    "                                 (df_q1_regional_price['grade'] < 11) &\n",
    "                                 (df_q1_regional_price['view'] < 4)].copy()\n",
    "\n",
    "#criação de novos atributos \n",
    "df_q2['month'] = df_q2['date'].dt.month\n",
    "df_q2['season'] = df_q2['month'].apply(lambda x: \"Summer\" if (x >= 6) & (x <=8) else\n",
    "                                                 \"Fall\"   if (x >= 9) & (x <=11) else\n",
    "                                                 \"Winter\" if (x == 1) | (x == 2) | (x == 12) else\n",
    "                                                 \"Spring\")\n",
    "\n",
    "#obtendo a mediana do preço por zipcode e estação do ano \n",
    "seasonal_price = df_q2[['price', 'zipcode', 'season']].groupby(['zipcode', 'season']).median().reset_index()\n",
    "seasonal_price.columns = ['zipcode', 'season', 'seasonal_price']\n",
    "\n",
    "#agregando os resultados na planilha\n",
    "df_q2_seasonal_price = pd.merge(df_q2, seasonal_price, how='inner', on=['zipcode', 'season'])\n",
    "\n",
    "#definindo as condições do preço de revenda \n",
    "for i in range(len(df_q2_seasonal_price)):\n",
    "    if (df_q2_seasonal_price.loc[i, 'price'] > df_q2_seasonal_price.loc[i, 'seasonal_price']):\n",
    "        df_q2_seasonal_price.loc[i, 'selling_Price'] = df_q2_seasonal_price.loc[i, 'price']*1.1\n",
    "        \n",
    "    else:\n",
    "        df_q2_seasonal_price.loc[i, 'selling_Price'] = df_q2_seasonal_price.loc[i, 'price']*1.3\n",
    "\n",
    "#calculando o lucro\n",
    "df_q2_seasonal_price['revenue'] = 'NA'\n",
    "for i in range(len(df_q2_seasonal_price)):\n",
    "    df_q2_seasonal_price.loc[i, 'revenue'] = df_q2_seasonal_price.loc[i, 'selling_Price'] - df_q2_seasonal_price.loc[i, 'price']\n",
    "\n"
   ]
  },
  {
   "cell_type": "code",
   "execution_count": 85,
   "id": "496cb738",
   "metadata": {
    "ExecuteTime": {
     "end_time": "2022-08-11T00:07:31.509303Z",
     "start_time": "2022-08-11T00:07:31.012944Z"
    }
   },
   "outputs": [
    {
     "name": "stdout",
     "output_type": "stream",
     "text": [
      "   season  revenue\n",
      "0    Fall 78969.64\n",
      "1  Spring 84574.78\n",
      "2  Summer 83123.59\n",
      "3  Winter 77570.78\n"
     ]
    },
    {
     "data": {
      "image/png": "[encoded data removed]",
      "text/plain": [
       "<Figure size 1440x720 with 1 Axes>"
      ]
     },
     "metadata": {
      "needs_background": "light"
     },
     "output_type": "display_data"
    }
   ],
   "source": [
    "#observando o lucro médio por estação do ano\n",
    "print(df_q2_seasonal_price[['season', 'revenue']].groupby('season').mean().reset_index())\n",
    "\n",
    "#plot\n",
    "sn.set_context(\"talk\")\n",
    "h0 = sn.barplot(data=df_q2_seasonal_price, x='season', y='revenue', palette = 'autumn_r');\n",
    "h0.set(ylabel = 'Revenue (U$)',\n",
    "      xlabel= '');\n",
    "sn.despine();"
   ]
  },
  {
   "cell_type": "code",
   "execution_count": 86,
   "id": "ae5a7aa8",
   "metadata": {
    "ExecuteTime": {
     "end_time": "2022-08-11T00:08:04.151158Z",
     "start_time": "2022-08-11T00:08:04.116217Z"
    }
   },
   "outputs": [],
   "source": [
    "#reorganizando e salvando a tabela final\n",
    "df_q2_seasonal_price = df_q2_seasonal_price.drop(columns=['month'])\n",
    "df_q2_seasonal_price = df_q2_seasonal_price.loc[:, ['id',\n",
    "                                                    'date',\n",
    "                                                    'yr_built',\n",
    "                                                    'yr_renovated',\n",
    "                                                    'zipcode',\n",
    "                                                    'lat',\n",
    "                                                    'long',\n",
    "                                                    'Status',\n",
    "                                                    'season',\n",
    "                                                    'regional_price',\n",
    "                                                    'seasonal_price',\n",
    "                                                    'price',\n",
    "                                                    'selling_Price',\n",
    "                                                    'revenue']]\n",
    "df_q2_seasonal_price.to_csv('house_selling_values.csv')"
   ]
  }
 ],
 "metadata": {
  "kernelspec": {
   "display_name": "Python 3 (ipykernel)",
   "language": "python",
   "name": "python3"
  },
  "language_info": {
   "codemirror_mode": {
    "name": "ipython",
    "version": 3
   },
   "file_extension": ".py",
   "mimetype": "text/x-python",
   "name": "python",
   "nbconvert_exporter": "python",
   "pygments_lexer": "ipython3",
   "version": "3.9.12"
  },
  "varInspector": {
   "cols": {
    "lenName": 16,
    "lenType": 16,
    "lenVar": 40
   },
   "kernels_config": {
    "python": {
     "delete_cmd_postfix": "",
     "delete_cmd_prefix": "del ",
     "library": "var_list.py",
     "varRefreshCmd": "print(var_dic_list())"
    },
    "r": {
     "delete_cmd_postfix": ") ",
     "delete_cmd_prefix": "rm(",
     "library": "var_list.r",
     "varRefreshCmd": "cat(var_dic_list()) "
    }
   },
   "types_to_exclude": [
    "module",
    "function",
    "builtin_function_or_method",
    "instance",
    "_Feature"
   ],
   "window_display": false
  }
 },
 "nbformat": 4,
 "nbformat_minor": 5
}
